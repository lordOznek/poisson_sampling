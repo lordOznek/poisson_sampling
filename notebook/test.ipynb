{
 "cells": [
  {
   "cell_type": "markdown",
   "metadata": {},
   "source": [
    "# Poisson sampling 2D\n",
    "Visualize poisson distribution on a 2D disk based on Bridson's algorithm.\n",
    "\n",
    "[Original paper from Bridson](https://www.cs.ubc.ca/~rbridson/docs/bridson-siggraph07-poissondisk.pdf)\n",
    "\n",
    "[Detailed implementation](https://sighack.com/post/poisson-disk-sampling-bridsons-algorithm)"
   ]
  },
  {
   "cell_type": "code",
   "execution_count": null,
   "metadata": {
    "vscode": {
     "languageId": "rust"
    }
   },
   "outputs": [],
   "source": [
    ":dep plotters = { version = \"^0.3.1\", default_features = false, features = [\"evcxr\", \"all_series\"] }\n",
    ":dep poisson_sampling = { path = \"D:\\\\Square\\\\lordOznek\\\\poisson_sampling\\\\\" }"
   ]
  },
  {
   "cell_type": "code",
   "execution_count": null,
   "metadata": {
    "vscode": {
     "languageId": "rust"
    }
   },
   "outputs": [],
   "source": [
    "use poisson_sampling::*;\n",
    "use plotters::prelude::*;\n",
    "use plotters::coord::Shift;\n",
    "use plotters::evcxr::SVGWrapper;\n",
    "\n",
    "// Generate points following Poisson distribution\n",
    "//let points = poisson_sampling::poisson_sample_disk(0.1, 30, 1.0);\n",
    "let points = poisson_sampling::poisson_sample_box2d(0.05, 30, 1.0, 1.0);\n",
    "\n",
    "println!( \"Number of samples {}\", points.len());\n",
    "\n",
    "evcxr_figure((720, 720), |root| {\n",
    "    root.fill(&WHITE)?;\n",
    "\n",
    "    let mut chart = ChartBuilder::on(&root)\n",
    "        .caption(\n",
    "            \"Poisson sampling\",\n",
    "            (\"Arial\", 30i32),\n",
    "        )\n",
    "        .set_label_area_size(LabelAreaPosition::Left, 40i32)\n",
    "        .set_label_area_size(LabelAreaPosition::Bottom, 40i32)\n",
    "        .x_label_area_size(40)\n",
    "        .y_label_area_size(40)\n",
    "        .build_cartesian_2d(-1f64..1f64, -1f64..1f64)?;\n",
    "\n",
    "    chart\n",
    "        .configure_mesh()\n",
    "        .disable_x_mesh()\n",
    "        .disable_y_mesh()\n",
    "        .draw()?;\n",
    "\n",
    "    // Finally draw the scatter map\n",
    "    chart.draw_series(\n",
    "        points\n",
    "            .iter()\n",
    "            .map(|p| Circle::new((p.x, p.y), 2, GREEN.filled()))\n",
    "    )?;\n",
    "\n",
    "    Ok(())\n",
    "})\n"
   ]
  },
  {
   "cell_type": "code",
   "execution_count": null,
   "metadata": {
    "vscode": {
     "languageId": "rust"
    }
   },
   "outputs": [],
   "source": [
    "// Generate points following Poisson distribution\n",
    "//let points = poisson_sampling::poisson_sample_disk(0.55, 30, 1.0); // around 8 samples\n",
    "let points = poisson_sampling::poisson_sample_disk(0.05, 30, 1.0); // around 850 samples\n",
    "\n",
    "println!( \"Number of samples {}\", points.len());\n",
    "\n",
    "evcxr_figure((720, 720), |root| {\n",
    "    root.fill(&WHITE)?;\n",
    "\n",
    "    let mut chart = ChartBuilder::on(&root)\n",
    "        .caption(\n",
    "            \"Poisson sampling\",\n",
    "            (\"Arial\", 30i32),\n",
    "        )\n",
    "        .set_label_area_size(LabelAreaPosition::Left, 40i32)\n",
    "        .set_label_area_size(LabelAreaPosition::Bottom, 40i32)\n",
    "        .x_label_area_size(40)\n",
    "        .y_label_area_size(40)\n",
    "        .build_cartesian_2d(-1f64..1f64, -1f64..1f64)?;\n",
    "\n",
    "    chart\n",
    "        .configure_mesh()\n",
    "        .disable_x_mesh()\n",
    "        .disable_y_mesh()\n",
    "        .draw()?;\n",
    "\n",
    "    // Finally draw the scatter map\n",
    "    chart.draw_series(\n",
    "        points\n",
    "            .iter()\n",
    "            .map(|p| Circle::new((p.x, p.y), 2, RED.filled()))\n",
    "    )?;\n",
    "\n",
    "    Ok(())\n",
    "})"
   ]
  },
  {
   "cell_type": "code",
   "execution_count": null,
   "metadata": {
    "vscode": {
     "languageId": "rust"
    }
   },
   "outputs": [],
   "source": [
    "if points.len() < 100 {\n",
    "    println!(\"{:?}\", points)\n",
    "}"
   ]
  }
 ],
 "metadata": {
  "kernelspec": {
   "display_name": "Rust",
   "language": "rust",
   "name": "rust"
  },
  "language_info": {
   "codemirror_mode": "rust",
   "file_extension": ".rs",
   "mimetype": "text/rust",
   "name": "Rust",
   "pygment_lexer": "rust",
   "version": ""
  }
 },
 "nbformat": 4,
 "nbformat_minor": 2
}
